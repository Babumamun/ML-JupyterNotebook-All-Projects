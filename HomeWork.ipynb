{
 "cells": [
  {
   "cell_type": "code",
   "execution_count": 7,
   "metadata": {},
   "outputs": [
    {
     "name": "stdout",
     "output_type": "stream",
     "text": [
      "4\n",
      "[[16  0]\n",
      " [ 9  0]\n",
      " [ 0  4]\n",
      " [ 1  1]]\n",
      "[16  9  4  2]\n",
      "[4.         3.         2.         1.41421356]\n",
      "[3 2 1 0]\n",
      "{'B': 2, 'A': 1}\n",
      "('B', 2)\n"
     ]
    },
    {
     "data": {
      "image/png": "[encoded data removed]",
      "text/plain": [
       "<Figure size 432x288 with 1 Axes>"
      ]
     },
     "metadata": {
      "needs_background": "light"
     },
     "output_type": "display_data"
    }
   ],
   "source": [
    "import numpy as np\n",
    "from matplotlib import pyplot as plt\n",
    "from matplotlib import font_manager\n",
    "def createDataSet():\n",
    "    group = np.array([[1, 2], [2, 2], [5, 4], [6, 3]])\n",
    "    labels = ['A', 'A', 'B', 'B']\n",
    "    return group, labels\n",
    "\n",
    "def classify_knn(in_point, dataset, labels, k):\n",
    "    #1、compute the distance\n",
    "    irow = dataset.shape[0]\n",
    "    print(irow)\n",
    "\n",
    "    #change the input data\n",
    "    in_mat = np.tile(in_point, (irow, 1))\n",
    "\n",
    "    diff_mat = in_mat - dataset\n",
    "    sq_diff_mat = diff_mat**2\n",
    "    print(sq_diff_mat)\n",
    "    sq_distance = sq_diff_mat.sum(axis=1)\n",
    "    print(sq_distance)\n",
    "    distance = sq_distance**0.5\n",
    "    print(distance)\n",
    "#2、sort the data\n",
    "    sort_dis_index = distance.argsort()\n",
    "    print(sort_dis_index)\n",
    "#3、select k nearest points and statistic \n",
    "    labels_count = {}\n",
    "    for i in range(k):\n",
    "        vote_label = labels[sort_dis_index[i]]\n",
    "        labels_count[vote_label] = labels_count.get(vote_label, 0) + 1\n",
    "#4determin the category of the k nearest points and sort them\n",
    "    print(labels_count)\n",
    "    sort_labels_count = sorted(labels_count.items(), key= lambda x:x[1], reverse=True)\n",
    "#5. use the majority classification rule。\n",
    "    return sort_labels_count[0]\n",
    "\n",
    "def draw(in_point, dataset, labels):\n",
    "    for i in range(len(labels)):\n",
    "        if labels[i] == 'A':\n",
    "            plt.scatter(dataset[i, 0], dataset[i, 1], c = 'r')\n",
    "        if labels[i] == 'B':\n",
    "            plt.scatter(dataset[i, 0], dataset[i, 1], c = 'g')\n",
    "    plt.scatter(in_point[0], in_point[1], c = 'b')\n",
    "    plt.show()\n",
    "\n",
    "\n",
    "if __name__ == '__main__':\n",
    "    dataset, labels = createDataSet()\n",
    "    result = classify_knn([5, 2], dataset, labels, 3)\n",
    "    print(result)\n",
    "    draw([5, 2], dataset, labels)\n"
   ]
  },
  {
   "cell_type": "code",
   "execution_count": null,
   "metadata": {},
   "outputs": [],
   "source": []
  }
 ],
 "metadata": {
  "kernelspec": {
   "display_name": "Python 3",
   "language": "python",
   "name": "python3"
  },
  "language_info": {
   "codemirror_mode": {
    "name": "ipython",
    "version": 3
   },
   "file_extension": ".py",
   "mimetype": "text/x-python",
   "name": "python",
   "nbconvert_exporter": "python",
   "pygments_lexer": "ipython3",
   "version": "3.8.5"
  }
 },
 "nbformat": 4,
 "nbformat_minor": 4
}
