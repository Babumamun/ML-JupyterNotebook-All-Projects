{
 "cells": [
  {
   "cell_type": "code",
   "execution_count": 1,
   "metadata": {},
   "outputs": [],
   "source": [
    "import pandas as pd\n",
    "import numpy as np\n",
    "import matplotlib.pyplot as plt\n",
    "from sklearn.linear_model import LogisticRegression\n",
    "from sklearn.model_selection import train_test_split\n",
    "from sklearn.metrics import f1_score"
   ]
  },
  {
   "cell_type": "code",
   "execution_count": 2,
   "metadata": {},
   "outputs": [],
   "source": [
    "def get_data(filename):\n",
    "    # df = pd.read_table(filename, sep='   ', header=None)\n",
    "    # print(df.head())\n",
    "    data = []\n",
    "    labels = []\n",
    "    fr = open(filename)\n",
    "    for line in fr.readlines():\n",
    "        lines = line.strip().split()\n",
    "        data.append([float(lines[0]), float(lines[1])])\n",
    "        labels.append(int(lines[2]))\n",
    "    return data, labels\n"
   ]
  },
  {
   "cell_type": "code",
   "execution_count": 3,
   "metadata": {},
   "outputs": [],
   "source": [
    "def deal_data(data, labels):\n",
    "    # Divide the data set\n",
    "    x_train, x_test, y_train, y_test = train_test_split(data, labels, test_size=0.2)\n",
    "    return x_train, x_test, y_train, y_test\n"
   ]
  },
  {
   "cell_type": "code",
   "execution_count": 7,
   "metadata": {},
   "outputs": [],
   "source": [
    "def train_test_evaluate(x_train, x_test, y_train, y_test):\n",
    "    # Training model\n",
    "    model = LogisticRegression(penalty='l2', max_iter=80)\n",
    "    model.fit(x_train, y_train)\n",
    "\n",
    "    # 模型预测\n",
    "    y_train_pred = model.predict(x_train)\n",
    "    y_pred = model.predict(x_test)\n",
    "\n",
    "    # 模型评估,使用f1\n",
    "    f1 = f1_score(y_train, y_train_pred)\n",
    "    print(\"Training set f1: \" + str(f1))\n",
    "    f1 = f1_score(y_test, y_pred)\n",
    "    print(\"Test set f1: \" + str(f1))\n",
    "\n",
    "    w = model.coef_\n",
    "    b = model.intercept_\n",
    "    return w, b"
   ]
  },
  {
   "cell_type": "code",
   "execution_count": 5,
   "metadata": {},
   "outputs": [],
   "source": [
    "def draw_result(x_train, x_test, y_train, y_test, w, b):\n",
    "    train_n = np.shape(x_train)[0]   \n",
    "    test_n = np.shape(x_test)[0]     \n",
    "\n",
    "    x_train1, y_train1, x_train0, y_train0 = [], [], [], []\n",
    "    x_test1, y_test1, x_test0, y_test0 = [], [], [], []\n",
    "    for i in range(train_n):      \n",
    "        if int(y_train[i]) == 1:\n",
    "            x_train1.append(x_train[i][0])\n",
    "            y_train1.append(x_train[i][1])\n",
    "        else:\n",
    "            x_train0.append(x_train[i][0])\n",
    "            y_train0.append(x_train[i][1])\n",
    "\n",
    "    for i in range(test_n):      \n",
    "        if int(y_test[i]) == 1:\n",
    "            x_test1.append(x_test[i][0])\n",
    "            y_test1.append(x_test[i][1])\n",
    "        else:\n",
    "            x_test0.append(x_test[i][0])\n",
    "            y_test0.append(x_test[i][1])\n",
    "\n",
    "    fig = plt.figure()\n",
    "    ax = fig.add_subplot(111)\n",
    "    # Draw the sample points of the test set and training set\n",
    "    ax.scatter(x_train1, y_train1, s=30, c='red')\n",
    "    ax.scatter(x_train0, y_train0, s=30, c='green', marker='s')\n",
    "\n",
    "    ax.scatter(x_test1, y_test1, s=30, c='yellow')\n",
    "    ax.scatter(x_test0, y_test0, s=30, c='blue', marker='s')\n",
    "\n",
    "    # Draw the decision boundary of logistic regression\n",
    "    # w1x1 + w2x2 + b = 0\n",
    "    # x : x1;\n",
    "    # y: x2 = (-w1x1 - b)/ w2\n",
    "    x = np.linspace(-4, 3.1, 1000)\n",
    "    y = (- w[0][0] * x - b) / w[0][1]\n",
    "    ax.plot(x, y)\n",
    "    plt.xlabel('X1')\n",
    "    plt.ylabel('X2')\n",
    "    plt.show()\n"
   ]
  },
  {
   "cell_type": "code",
   "execution_count": 8,
   "metadata": {},
   "outputs": [
    {
     "name": "stdout",
     "output_type": "stream",
     "text": [
      "Training set f1: 0.9438202247191012\n",
      "Test set f1: 1.0\n"
     ]
    },
    {
     "data": {
      "image/png": "[encoded data removed]",
      "text/plain": [
       "<Figure size 432x288 with 1 Axes>"
      ]
     },
     "metadata": {
      "needs_background": "light"
     },
     "output_type": "display_data"
    }
   ],
   "source": [
    "if __name__=='__main__':\n",
    "   \n",
    "    filename = '/Users/mac/Desktop/Maching learing/Dataset_SomeFiles/environment.txt'  \n",
    "    data, labels = get_data(filename)\n",
    "\n",
    "    x_train, x_test, y_train, y_test = deal_data(data, labels)\n",
    "\n",
    "    w, b = train_test_evaluate(x_train, x_test, y_train, y_test)\n",
    "    \n",
    "    draw_result(x_train, x_test, y_train, y_test, w, b)\n"
   ]
  },
  {
   "cell_type": "code",
   "execution_count": null,
   "metadata": {},
   "outputs": [],
   "source": []
  },
  {
   "cell_type": "code",
   "execution_count": null,
   "metadata": {},
   "outputs": [],
   "source": []
  }
 ],
 "metadata": {
  "kernelspec": {
   "display_name": "Python 3",
   "language": "python",
   "name": "python3"
  },
  "language_info": {
   "codemirror_mode": {
    "name": "ipython",
    "version": 3
   },
   "file_extension": ".py",
   "mimetype": "text/x-python",
   "name": "python",
   "nbconvert_exporter": "python",
   "pygments_lexer": "ipython3",
   "version": "3.8.5"
  }
 },
 "nbformat": 4,
 "nbformat_minor": 4
}
