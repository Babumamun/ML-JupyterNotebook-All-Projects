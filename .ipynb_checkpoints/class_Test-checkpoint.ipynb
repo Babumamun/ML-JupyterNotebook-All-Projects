{
 "cells": [
  {
   "cell_type": "code",
   "execution_count": null,
   "metadata": {},
   "outputs": [],
   "source": [
    "import numpy as np"
   ]
  },
  {
   "cell_type": "code",
   "execution_count": null,
   "metadata": {},
   "outputs": [],
   "source": [
    "def python_sum(n):\n",
    "    \"\"\"\n",
    "    Python----Realize the addition of array\n",
    "    @param n: array lenth\n",
    "    \"\"\"\n",
    "    a = [i**2 for i in range(n)]\n",
    "    print(a)\n",
    "    b = [i**3 for i in range(n)]\n",
    "    print(b)\n",
    "    c = []\n",
    "    for i in range(n):\n",
    "        c.append(a[i]+b[i])\n",
    "    return c"
   ]
  },
  {
   "cell_type": "code",
   "execution_count": null,
   "metadata": {},
   "outputs": [],
   "source": []
  }
 ],
 "metadata": {
  "kernelspec": {
   "display_name": "Python 3",
   "language": "python",
   "name": "python3"
  },
  "language_info": {
   "codemirror_mode": {
    "name": "ipython",
    "version": 3
   },
   "file_extension": ".py",
   "mimetype": "text/x-python",
   "name": "python",
   "nbconvert_exporter": "python",
   "pygments_lexer": "ipython3",
   "version": "3.8.5"
  }
 },
 "nbformat": 4,
 "nbformat_minor": 4
}
