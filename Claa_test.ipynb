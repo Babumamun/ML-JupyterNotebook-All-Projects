{
 "cells": [
  {
   "cell_type": "code",
   "execution_count": 1,
   "metadata": {},
   "outputs": [],
   "source": [
    "import pandas as pd\n",
    "from sklearn.model_selection import train_test_split\n",
    "from sklearn.preprocessing import StandardScaler\n",
    "from sklearn.metrics import f1_score\n",
    "from sklearn.metrics import roc_auc_score\n",
    "from sklearn import linear_model"
   ]
  },
  {
   "cell_type": "code",
   "execution_count": 10,
   "metadata": {},
   "outputs": [],
   "source": [
    "def get_data(filename):\n",
    "    # df = pd.read_table(filename, sep='   ', header=None)\n",
    "    # print(df.head())\n",
    "    data = []\n",
    "    labels = []\n",
    "    fr = open(filename)\n",
    "    for line in fr.readlines():\n",
    "        lines = line.strip().split()\n",
    "        data.append([float(lines[0]), float(lines[1])])\n",
    "        labels.append(int(lines[2]))\n",
    "    return data, labels"
   ]
  },
  {
   "cell_type": "code",
   "execution_count": 11,
   "metadata": {},
   "outputs": [],
   "source": [
    "def deal_data(data, labels):\n",
    "    # 划分数据集\n",
    "    x_train, x_test, y_train, y_test = train_test_split(data, labels, test_size=0.2)\n",
    "    return x_train, x_test, y_train, y_test"
   ]
  },
  {
   "cell_type": "code",
   "execution_count": 21,
   "metadata": {},
   "outputs": [
    {
     "ename": "SyntaxError",
     "evalue": "invalid syntax (<ipython-input-21-b7a607ebd9a2>, line 1)",
     "output_type": "error",
     "traceback": [
      "\u001b[0;36m  File \u001b[0;32m\"<ipython-input-21-b7a607ebd9a2>\"\u001b[0;36m, line \u001b[0;32m1\u001b[0m\n\u001b[0;31m    ef train_test_evaluate(x_train, x_test, y_train, y_test):\u001b[0m\n\u001b[0m       ^\u001b[0m\n\u001b[0;31mSyntaxError\u001b[0m\u001b[0;31m:\u001b[0m invalid syntax\n"
     ]
    }
   ],
   "source": [
    "ef train_test_evaluate(x_train, x_test, y_train, y_test):\n",
    "    # 训练模型\n",
    "    model = LogisticRegression(penalty='l2', max_iter=80)\n",
    "    model.fit(x_train, y_train)\n",
    "\n",
    "    # 模型预测\n",
    "    y_train_pred = model.predict(x_train)\n",
    "    y_pred = model.predict(x_test)\n",
    "\n",
    "    # 模型评估,使用f1\n",
    "    f1 = f1_score(y_train, y_train_pred)\n",
    "    print(\"训练集的f1: \" + str(f1))\n",
    "    f1 = f1_score(y_test, y_pred)\n",
    "    print(\"测试集的f1: \" + str(f1))\n",
    "\n",
    "    w = model.coef_\n",
    "    b = model.intercept_\n",
    "    return w, b"
   ]
  },
  {
   "cell_type": "code",
   "execution_count": 20,
   "metadata": {},
   "outputs": [],
   "source": [
    "from matplotlib import pyplot as plt"
   ]
  },
  {
   "cell_type": "code",
   "execution_count": 22,
   "metadata": {},
   "outputs": [],
   "source": [
    "def draw_result(x_train, x_test, y_train, y_test, w, b):\n",
    "    train_n = np.shape(x_train)[0]   # 80\n",
    "    test_n = np.shape(x_test)[0]     # 20\n",
    "\n",
    "    x_train1, y_train1, x_train0, y_train0 = [], [], [], []\n",
    "    x_test1, y_test1, x_test0, y_test0 = [], [], [], []\n",
    "    for i in range(train_n):      # n = 100\n",
    "        if int(y_train[i]) == 1:\n",
    "            x_train1.append(x_train[i][0])\n",
    "            y_train1.append(x_train[i][1])\n",
    "        else:\n",
    "            x_train0.append(x_train[i][0])\n",
    "            y_train0.append(x_train[i][1])\n",
    "\n",
    "    for i in range(test_n):      # n = 100\n",
    "        if int(y_test[i]) == 1:\n",
    "            x_test1.append(x_test[i][0])\n",
    "            y_test1.append(x_test[i][1])\n",
    "        else:\n",
    "            x_test0.append(x_test[i][0])\n",
    "            y_test0.append(x_test[i][1])\n",
    "\n",
    "    fig = plt.figure()\n",
    "    ax = fig.add_subplot(111)\n",
    "    # 画出测试集和训练集的样本点\n",
    "    ax.scatter(x_train1, y_train1, s=30, c='red')\n",
    "    ax.scatter(x_train0, y_train0, s=30, c='green', marker='s')\n",
    "\n",
    "    ax.scatter(x_test1, y_test1, s=30, c='yellow')\n",
    "    ax.scatter(x_test0, y_test0, s=30, c='blue', marker='s')\n",
    "\n",
    "    # 画出逻辑回归的决策边界\n",
    "    # w1x1 + w2x2 + b = 0\n",
    "    # x : x1;\n",
    "    # y: x2 = (-w1x1 - b)/ w2\n",
    "    x = np.linspace(-4, 3.1, 1000)\n",
    "    y = (- w[0][0] * x - b) / w[0][1]\n",
    "    ax.plot(x, y)\n",
    "    plt.xlabel('X1')\n",
    "    plt.ylabel('X2')\n",
    "    plt.show()"
   ]
  },
  {
   "cell_type": "code",
   "execution_count": 23,
   "metadata": {},
   "outputs": [
    {
     "ename": "FileNotFoundError",
     "evalue": "[Errno 2] No such file or directory: '../data/environment.txt'",
     "output_type": "error",
     "traceback": [
      "\u001b[0;31m---------------------------------------------------------------------------\u001b[0m",
      "\u001b[0;31mFileNotFoundError\u001b[0m                         Traceback (most recent call last)",
      "\u001b[0;32m<ipython-input-23-6f0ba4e30c51>\u001b[0m in \u001b[0;36m<module>\u001b[0;34m\u001b[0m\n\u001b[1;32m      2\u001b[0m     \u001b[0;31m# 1、读取数据\u001b[0m\u001b[0;34m\u001b[0m\u001b[0;34m\u001b[0m\u001b[0;34m\u001b[0m\u001b[0m\n\u001b[1;32m      3\u001b[0m     \u001b[0mfilename\u001b[0m \u001b[0;34m=\u001b[0m \u001b[0;34m'../data/environment.txt'\u001b[0m  \u001b[0;31m# 文件目录\u001b[0m\u001b[0;34m\u001b[0m\u001b[0;34m\u001b[0m\u001b[0m\n\u001b[0;32m----> 4\u001b[0;31m     \u001b[0mdata\u001b[0m\u001b[0;34m,\u001b[0m \u001b[0mlabels\u001b[0m \u001b[0;34m=\u001b[0m \u001b[0mget_data\u001b[0m\u001b[0;34m(\u001b[0m\u001b[0mfilename\u001b[0m\u001b[0;34m)\u001b[0m\u001b[0;34m\u001b[0m\u001b[0;34m\u001b[0m\u001b[0m\n\u001b[0m\u001b[1;32m      5\u001b[0m \u001b[0;34m\u001b[0m\u001b[0m\n\u001b[1;32m      6\u001b[0m     \u001b[0;31m# 2、分析数据\u001b[0m\u001b[0;34m\u001b[0m\u001b[0;34m\u001b[0m\u001b[0;34m\u001b[0m\u001b[0m\n",
      "\u001b[0;32m<ipython-input-10-786c9aded1f9>\u001b[0m in \u001b[0;36mget_data\u001b[0;34m(filename)\u001b[0m\n\u001b[1;32m      4\u001b[0m     \u001b[0mdata\u001b[0m \u001b[0;34m=\u001b[0m \u001b[0;34m[\u001b[0m\u001b[0;34m]\u001b[0m\u001b[0;34m\u001b[0m\u001b[0;34m\u001b[0m\u001b[0m\n\u001b[1;32m      5\u001b[0m     \u001b[0mlabels\u001b[0m \u001b[0;34m=\u001b[0m \u001b[0;34m[\u001b[0m\u001b[0;34m]\u001b[0m\u001b[0;34m\u001b[0m\u001b[0;34m\u001b[0m\u001b[0m\n\u001b[0;32m----> 6\u001b[0;31m     \u001b[0mfr\u001b[0m \u001b[0;34m=\u001b[0m \u001b[0mopen\u001b[0m\u001b[0;34m(\u001b[0m\u001b[0mfilename\u001b[0m\u001b[0;34m)\u001b[0m\u001b[0;34m\u001b[0m\u001b[0;34m\u001b[0m\u001b[0m\n\u001b[0m\u001b[1;32m      7\u001b[0m     \u001b[0;32mfor\u001b[0m \u001b[0mline\u001b[0m \u001b[0;32min\u001b[0m \u001b[0mfr\u001b[0m\u001b[0;34m.\u001b[0m\u001b[0mreadlines\u001b[0m\u001b[0;34m(\u001b[0m\u001b[0;34m)\u001b[0m\u001b[0;34m:\u001b[0m\u001b[0;34m\u001b[0m\u001b[0;34m\u001b[0m\u001b[0m\n\u001b[1;32m      8\u001b[0m         \u001b[0mlines\u001b[0m \u001b[0;34m=\u001b[0m \u001b[0mline\u001b[0m\u001b[0;34m.\u001b[0m\u001b[0mstrip\u001b[0m\u001b[0;34m(\u001b[0m\u001b[0;34m)\u001b[0m\u001b[0;34m.\u001b[0m\u001b[0msplit\u001b[0m\u001b[0;34m(\u001b[0m\u001b[0;34m)\u001b[0m\u001b[0;34m\u001b[0m\u001b[0;34m\u001b[0m\u001b[0m\n",
      "\u001b[0;31mFileNotFoundError\u001b[0m: [Errno 2] No such file or directory: '../data/environment.txt'"
     ]
    }
   ],
   "source": [
    "if __name__=='__main__':\n",
    "    # 1、读取数据\n",
    "    filename = '../data/environment.txt'  # 文件目录\n",
    "    data, labels = get_data(filename)\n",
    "\n",
    "    # 2、分析数据\n",
    "    # 3、处理数据，划分数据\n",
    "    x_train, x_test, y_train, y_test = deal_data(data, labels)\n",
    "\n",
    "    # 4、模型训练：利用sklearn实现逻辑回归\n",
    "    # 5、模型测试及评估：预测数据，并使用“F1”评估模型\n",
    "    w, b = train_test_evaluate(x_train, x_test, y_train, y_test)"
   ]
  },
  {
   "cell_type": "code",
   "execution_count": null,
   "metadata": {},
   "outputs": [],
   "source": []
  }
 ],
 "metadata": {
  "kernelspec": {
   "display_name": "Python 3",
   "language": "python",
   "name": "python3"
  },
  "language_info": {
   "codemirror_mode": {
    "name": "ipython",
    "version": 3
   },
   "file_extension": ".py",
   "mimetype": "text/x-python",
   "name": "python",
   "nbconvert_exporter": "python",
   "pygments_lexer": "ipython3",
   "version": "3.8.5"
  }
 },
 "nbformat": 4,
 "nbformat_minor": 4
}
