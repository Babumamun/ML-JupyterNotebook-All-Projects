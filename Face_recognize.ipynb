{
 "cells": [
  {
   "cell_type": "code",
   "execution_count": 1,
   "metadata": {},
   "outputs": [
    {
     "ename": "SyntaxError",
     "evalue": "EOF while scanning triple-quoted string literal (<ipython-input-1-db94bc383ca6>, line 41)",
     "output_type": "error",
     "traceback": [
      "\u001b[0;36m  File \u001b[0;32m\"<ipython-input-1-db94bc383ca6>\"\u001b[0;36m, line \u001b[0;32m41\u001b[0m\n\u001b[0;31m    them if it knows what they are\u001b[0m\n\u001b[0m                                  \n^\u001b[0m\n\u001b[0;31mSyntaxError\u001b[0m\u001b[0;31m:\u001b[0m EOF while scanning triple-quoted string literal\n"
     ]
    }
   ],
   "source": [
    "import face_recognition as fr\n",
    "import os\n",
    "import cv2\n",
    "import face_recognition\n",
    "import numpy as np\n",
    "from time import sleep\n",
    "\n",
    "\n",
    "def get_encoded_faces():\n",
    "    \"\"\"\n",
    "    looks through the faces folder and encodes all\n",
    "    the faces\n",
    "\n",
    "    :return: dict of (name, image encoded)\n",
    "    \"\"\"\n",
    "    encoded = {}\n",
    "\n",
    "    for dirpath, dnames, fnames in os.walk(\"./faces\"):\n",
    "        for f in fnames:\n",
    "            if f.endswith(\".jpg\") or f.endswith(\".png\"):\n",
    "                face = fr.load_image_file(\"faces/\" + f)\n",
    "                encoding = fr.face_encodings(face)[0]\n",
    "                encoded[f.split(\".\")[0]] = encoding\n",
    "\n",
    "    return encoded\n",
    "\n",
    "\n",
    "def unknown_image_encoded(img):\n",
    "    \"\"\"\n",
    "    encode a face given the file name\n",
    "    \"\"\"\n",
    "    face = fr.load_image_file(\"faces/\" + img)\n",
    "    encoding = fr.face_encodings(face)[0]\n",
    "\n",
    "    return encoding\n",
    "\n",
    "\n",
    "def classify_face(im):\n",
    "    \"\"\"\n",
    "    will find all of the faces in a given image and label\n",
    "    them if it knows what they are\n"
   ]
  },
  {
   "cell_type": "code",
   "execution_count": null,
   "metadata": {},
   "outputs": [],
   "source": []
  }
 ],
 "metadata": {
  "kernelspec": {
   "display_name": "Python 3",
   "language": "python",
   "name": "python3"
  },
  "language_info": {
   "codemirror_mode": {
    "name": "ipython",
    "version": 3
   },
   "file_extension": ".py",
   "mimetype": "text/x-python",
   "name": "python",
   "nbconvert_exporter": "python",
   "pygments_lexer": "ipython3",
   "version": "3.8.5"
  }
 },
 "nbformat": 4,
 "nbformat_minor": 4
}
